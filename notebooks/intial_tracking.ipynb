{
 "cells": [
  {
   "cell_type": "code",
   "id": "49eec235-d788-4801-9052-a4a06d4c30b5",
   "metadata": {
    "ExecuteTime": {
     "end_time": "2025-10-17T02:26:53.752131Z",
     "start_time": "2025-10-17T02:26:50.479035Z"
    }
   },
   "source": [
    "import pandas as pd\n",
    "from sklearn.feature_extraction import DictVectorizer\n",
    "from sklearn.linear_model import Lasso\n",
    "from sklearn.metrics import root_mean_squared_error\n",
    "\n",
    "def read_dataframe(path):\n",
    "    df = pd.read_parquet(path)\n",
    "    df[\"duration\"] = (df.lpep_dropoff_datetime - df.lpep_pickup_datetime).dt.total_seconds() / 60\n",
    "    df = df[(df.duration >= 1) & (df.duration <= 60)]\n",
    "    df[[\"PULocationID\", \"DOLocationID\"]] = df[[\"PULocationID\", \"DOLocationID\"]].astype(str)\n",
    "    return df\n",
    "\n",
    "df_train = read_dataframe(\"../data/green_tripdata_2025-01.parquet\")\n",
    "df_val = read_dataframe(\"../data/green_tripdata_2025-02.parquet\")\n",
    "\n",
    "df_train[\"PU_DO\"] = df_train[\"PULocationID\"] + \"_\" + df_train[\"DOLocationID\"]\n",
    "df_val[\"PU_DO\"] = df_val[\"PULocationID\"] + \"_\" + df_val[\"DOLocationID\"]\n",
    "\n",
    "categorical = [\"PU_DO\"]\n",
    "numerical = [\"trip_distance\"]\n",
    "\n",
    "dv = DictVectorizer()\n",
    "X_train = dv.fit_transform(df_train[categorical + numerical].to_dict(orient=\"records\"))\n",
    "X_val = dv.transform(df_val[categorical + numerical].to_dict(orient=\"records\"))\n",
    "\n",
    "y_train = df_train[\"duration\"].values\n",
    "y_val = df_val[\"duration\"].values\n"
   ],
   "outputs": [],
   "execution_count": 1
  },
  {
   "cell_type": "code",
   "id": "aa9d8cfd-6610-4d5a-ab14-7b2e8e0d59bc",
   "metadata": {
    "ExecuteTime": {
     "end_time": "2025-10-17T02:27:01.715186Z",
     "start_time": "2025-10-17T02:26:53.769471Z"
    }
   },
   "source": [
    "import mlflow\n",
    "\n",
    "mlflow.set_tracking_uri(\"sqlite:///mlflow.db\")\n",
    "mlflow.set_experiment(\"class-nyc-taxi-experiment\")\n",
    "\n",
    "with mlflow.start_run(run_name=\"lasso_alpha_0.1\"):\n",
    "    alpha = 0.1\n",
    "    mlflow.log_param(\"alpha\", alpha)\n",
    "\n",
    "    model = Lasso(alpha=alpha)\n",
    "    model.fit(X_train, y_train)\n",
    "\n",
    "    y_pred = model.predict(X_val)\n",
    "    rmse = root_mean_squared_error(y_val, y_pred)\n",
    "\n",
    "    mlflow.log_metric(\"rmse\", rmse)\n",
    "    mlflow.sklearn.log_model(model, name=\"model\")\n",
    "\n",
    "    print(f\"✅ Run finalizado. RMSE = {rmse:.4f}\")"
   ],
   "outputs": [
    {
     "name": "stderr",
     "output_type": "stream",
     "text": [
      "2025/10/16 20:26:55 INFO mlflow.store.db.utils: Creating initial MLflow database tables...\n",
      "2025/10/16 20:26:55 INFO mlflow.store.db.utils: Updating database tables\n",
      "INFO  [alembic.runtime.migration] Context impl SQLiteImpl.\n",
      "INFO  [alembic.runtime.migration] Will assume non-transactional DDL.\n",
      "INFO  [alembic.runtime.migration] Context impl SQLiteImpl.\n",
      "INFO  [alembic.runtime.migration] Will assume non-transactional DDL.\n",
      "\u001B[31m2025/10/16 20:27:01 WARNING mlflow.models.model: Model logged without a signature and input example. Please set `input_example` parameter when logging the model to auto infer the model signature.\u001B[0m\n"
     ]
    },
    {
     "name": "stdout",
     "output_type": "stream",
     "text": [
      "✅ Run finalizado. RMSE = 8.9926\n"
     ]
    }
   ],
   "execution_count": 2
  },
  {
   "cell_type": "markdown",
   "id": "f1a6361a-18c3-4cdd-8d39-372ecc1c3ce3",
   "metadata": {},
   "source": [
    "# Model Registry example"
   ]
  },
  {
   "cell_type": "code",
   "id": "c01fb531-a6ca-443d-9b52-7f0f8eefeb02",
   "metadata": {
    "ExecuteTime": {
     "end_time": "2025-10-17T02:27:02.207871Z",
     "start_time": "2025-10-17T02:27:01.849015Z"
    }
   },
   "source": [
    "from sklearn.ensemble import GradientBoostingRegressor, ExtraTreesRegressor\n",
    "from sklearn.svm import LinearSVR\n",
    "import pickle\n",
    "import mlflow\n",
    "\n",
    "mlflow.set_tracking_uri(\"sqlite:///mlflow.db\")\n",
    "mlflow.set_experiment(experiment_name=\"nyc-taxi-model-registry-example\")"
   ],
   "outputs": [
    {
     "data": {
      "text/plain": [
       "<Experiment: artifact_location='/Users/cristianzapata/Documents/nyc-taxi-predictions-2025/notebooks/mlruns/2', creation_time=1760498283543, experiment_id='2', last_update_time=1760498283543, lifecycle_stage='active', name='nyc-taxi-model-registry-example', tags={'mlflow.experimentKind': 'custom_model_development'}>"
      ]
     },
     "execution_count": 3,
     "metadata": {},
     "output_type": "execute_result"
    }
   ],
   "execution_count": 3
  },
  {
   "cell_type": "code",
   "id": "cb95e4bd-aee0-4fb1-a082-5af0c2e440fb",
   "metadata": {
    "ExecuteTime": {
     "end_time": "2025-10-17T02:27:02.675897Z",
     "start_time": "2025-10-17T02:27:02.220436Z"
    }
   },
   "source": [
    "mlflow.sklearn.autolog()"
   ],
   "outputs": [],
   "execution_count": 4
  },
  {
   "cell_type": "code",
   "id": "59a9307b-ade6-4c3c-88a6-e0ba8a654539",
   "metadata": {
    "ExecuteTime": {
     "end_time": "2025-10-17T02:27:02.693628Z",
     "start_time": "2025-10-17T02:27:02.683121Z"
    }
   },
   "source": [
    "training_dataset = mlflow.data.from_numpy(X_train.data, targets=y_train, name=\"green_tripdata_2025-01\")\n",
    "validation_dataset = mlflow.data.from_numpy(X_val.data, targets=y_val, name=\"green_tripdata_2025-02\")"
   ],
   "outputs": [],
   "execution_count": 5
  },
  {
   "cell_type": "code",
   "id": "8dbada59-ff1c-4f53-b1e8-bb55c48a3799",
   "metadata": {
    "ExecuteTime": {
     "end_time": "2025-10-17T02:27:02.709578Z",
     "start_time": "2025-10-17T02:27:02.706457Z"
    }
   },
   "source": [
    "models = [\n",
    "    \n",
    "    {\"model\": GradientBoostingRegressor,\n",
    "     \"params\": {\"n_estimators\": 100, \"learning_rate\": 0.3, \"max_depth\": 25, \"random_state\": 42},\n",
    "     },\n",
    "    \n",
    "    {\"model\": ExtraTreesRegressor,\n",
    "     \"params\": {\"n_estimators\": 100, \"max_depth\": 15, \"random_state\": 42},\n",
    "     },\n",
    "    \n",
    "    {\"model\": LinearSVR,\n",
    "     \"params\": {\"C\": 1.0, \"epsilon\": 0}, \n",
    "     },\n",
    "\n",
    "]"
   ],
   "outputs": [],
   "execution_count": 6
  },
  {
   "cell_type": "code",
   "id": "bd3dd20b-e2f8-476e-af3b-6efdbaf27c3a",
   "metadata": {
    "ExecuteTime": {
     "end_time": "2025-10-17T02:28:03.746652Z",
     "start_time": "2025-10-17T02:27:04.258920Z"
    }
   },
   "source": [
    "with mlflow.start_run(run_name=\"Nested Runs\"):\n",
    "    for model in models:\n",
    "        \n",
    "        model_class = model[\"model\"]\n",
    "        model_name = model_class.__name__\n",
    "        params = model[\"params\"]\n",
    "        \n",
    "        with mlflow.start_run(run_name=model_name,nested=True):\n",
    "            \n",
    "            ml_model = model_class(**params)\n",
    "           \n",
    "            ml_model.fit(X_train, y_train)\n",
    "    \n",
    "            y_pred = ml_model.predict(X_val)\n",
    "            \n",
    "            rmse = root_mean_squared_error(y_val, y_pred)\n",
    "            mlflow.log_metric(\"rmse\", rmse)\n",
    "            \n",
    "            !mkdir models\n",
    "            with open(\"models/preprocessor.b\", \"wb\") as f_out:\n",
    "                pickle.dump(dv, f_out)\n",
    "                \n",
    "            mlflow.log_artifact(\"models/preprocessor.b\", artifact_path=\"preprocessor\")"
   ],
   "outputs": [
    {
     "name": "stdout",
     "output_type": "stream",
     "text": [
      "mkdir: models: File exists\r\n",
      "mkdir: models: File exists\r\n"
     ]
    },
    {
     "name": "stderr",
     "output_type": "stream",
     "text": [
      "/Users/cristianzapata/Documents/nyc-taxi-predictions-2025/.venv/lib/python3.13/site-packages/sklearn/svm/_base.py:1250: ConvergenceWarning: Liblinear failed to converge, increase the number of iterations.\n",
      "  warnings.warn(\n"
     ]
    },
    {
     "name": "stdout",
     "output_type": "stream",
     "text": [
      "mkdir: models: File exists\r\n"
     ]
    }
   ],
   "execution_count": 7
  },
  {
   "cell_type": "markdown",
   "id": "373548bf-188f-4d7f-8d2e-e990bdf86389",
   "metadata": {},
   "source": [
    "# Registrar modelo"
   ]
  },
  {
   "cell_type": "code",
   "id": "e8432868-bd7a-4ecb-b8b6-5bd00d9539d4",
   "metadata": {
    "ExecuteTime": {
     "end_time": "2025-10-17T02:28:35.870085Z",
     "start_time": "2025-10-17T02:28:03.834295Z"
    }
   },
   "source": [
    "from sklearn.ensemble import RandomForestRegressor\n",
    "\n",
    "\n",
    "with mlflow.start_run(run_name=\"RandomForestRegressor\"):\n",
    "    ml_model = RandomForestRegressor(\n",
    "        n_estimators=100,\n",
    "        max_depth=15,\n",
    "        random_state=42\n",
    "    )\n",
    "    \n",
    "    ml_model.fit(X_train, y_train)\n",
    "    \n",
    "    mlflow.sklearn.log_model(\n",
    "        sk_model=model, \n",
    "        artifact_path=\"model\",\n",
    "        registered_model_name=\"nyc-taxi-model\"\n",
    "    )\n",
    "    \n",
    "    y_pred = ml_model.predict(X_val)\n",
    "    \n",
    "    rmse = root_mean_squared_error(y_val, y_pred)\n",
    "    mlflow.log_metric(\"rmse\", rmse)\n",
    "    \n",
    "    # !mkdir models\n",
    "    with open(\"models/preprocessor.b\", \"wb\") as f_out:\n",
    "        pickle.dump(dv, f_out)\n",
    "        \n",
    "    mlflow.log_artifact(\"models/preprocessor.b\", artifact_path=\"preprocessor\")"
   ],
   "outputs": [
    {
     "name": "stderr",
     "output_type": "stream",
     "text": [
      "2025/10/16 20:28:30 WARNING mlflow.models.model: `artifact_path` is deprecated. Please use `name` instead.\n",
      "2025/10/16 20:28:30 WARNING mlflow.sklearn: Model was missing function: predict. Not logging python_function flavor!\n",
      "\u001B[31m2025/10/16 20:28:33 WARNING mlflow.models.model: Model logged without a signature and input example. Please set `input_example` parameter when logging the model to auto infer the model signature.\u001B[0m\n",
      "2025/10/16 20:28:33 INFO mlflow.store.db.utils: Creating initial MLflow database tables...\n",
      "2025/10/16 20:28:33 INFO mlflow.store.db.utils: Updating database tables\n",
      "INFO  [alembic.runtime.migration] Context impl SQLiteImpl.\n",
      "INFO  [alembic.runtime.migration] Will assume non-transactional DDL.\n",
      "Registered model 'nyc-taxi-model' already exists. Creating a new version of this model...\n",
      "Created version '5' of model 'nyc-taxi-model'.\n"
     ]
    }
   ],
   "execution_count": 8
  },
  {
   "cell_type": "markdown",
   "id": "e00967f1-1435-45f0-aef2-f9cf4b1a9fa7",
   "metadata": {},
   "source": [
    "## Método 2 para Registrar modelos"
   ]
  },
  {
   "cell_type": "code",
   "execution_count": 10,
   "id": "f28bfe6a-36b7-467f-b044-63276b219984",
   "metadata": {},
   "outputs": [
    {
     "name": "stdin",
     "output_type": "stream",
     "text": [
      "Ingrese el run_id 8d974e4da1834b36a6baeb4e2472e7aa\n"
     ]
    },
    {
     "name": "stderr",
     "output_type": "stream",
     "text": [
      "Registered model 'nyc-taxi-model' already exists. Creating a new version of this model...\n",
      "2025/10/14 21:49:23 WARNING mlflow.tracking._model_registry.fluent: Run with id 8d974e4da1834b36a6baeb4e2472e7aa has no artifacts at artifact path 'model', registering model based on models:/m-ed8b88638884401b8413f0fc3c19ccdb instead\n",
      "Created version '4' of model 'nyc-taxi-model'.\n"
     ]
    }
   ],
   "source": [
    "run_id = input(\"Ingrese el run_id\")\n",
    "run_uri = f\"runs:/{run_id}/model\"\n",
    "\n",
    "result = mlflow.register_model(\n",
    "    model_uri=run_uri,\n",
    "    name=\"nyc-taxi-model\"\n",
    ")"
   ]
  },
  {
   "metadata": {},
   "cell_type": "markdown",
   "source": "# Método 3 para Registrar Modelos - MLFlow client",
   "id": "600fb79acc7479d8"
  },
  {
   "cell_type": "code",
   "id": "d620b4fd-99a0-4aa2-bd8f-d4668c96c344",
   "metadata": {
    "ExecuteTime": {
     "end_time": "2025-10-17T02:28:35.923508Z",
     "start_time": "2025-10-17T02:28:35.919150Z"
    }
   },
   "source": [
    "from mlflow import MlflowClient\n",
    "\n",
    "client = MlflowClient(tracking_uri=\"sqlite:///mlflow.db\")"
   ],
   "outputs": [],
   "execution_count": 9
  },
  {
   "metadata": {
    "ExecuteTime": {
     "end_time": "2025-10-17T02:28:37.513683Z",
     "start_time": "2025-10-17T02:28:35.946792Z"
    }
   },
   "cell_type": "code",
   "source": "client.create_registered_model(name=\"nyc-taxi-model\")",
   "id": "3072ae12dd557aa3",
   "outputs": [
    {
     "ename": "MlflowException",
     "evalue": "Registered Model (name=nyc-taxi-model) already exists.",
     "output_type": "error",
     "traceback": [
      "\u001B[31m---------------------------------------------------------------------------\u001B[39m",
      "\u001B[31mIntegrityError\u001B[39m                            Traceback (most recent call last)",
      "\u001B[36mFile \u001B[39m\u001B[32m~/Documents/nyc-taxi-predictions-2025/.venv/lib/python3.13/site-packages/sqlalchemy/engine/base.py:1967\u001B[39m, in \u001B[36mConnection._exec_single_context\u001B[39m\u001B[34m(self, dialect, context, statement, parameters)\u001B[39m\n\u001B[32m   1966\u001B[39m     \u001B[38;5;28;01mif\u001B[39;00m \u001B[38;5;129;01mnot\u001B[39;00m evt_handled:\n\u001B[32m-> \u001B[39m\u001B[32m1967\u001B[39m         \u001B[38;5;28;43mself\u001B[39;49m\u001B[43m.\u001B[49m\u001B[43mdialect\u001B[49m\u001B[43m.\u001B[49m\u001B[43mdo_execute\u001B[49m\u001B[43m(\u001B[49m\n\u001B[32m   1968\u001B[39m \u001B[43m            \u001B[49m\u001B[43mcursor\u001B[49m\u001B[43m,\u001B[49m\u001B[43m \u001B[49m\u001B[43mstr_statement\u001B[49m\u001B[43m,\u001B[49m\u001B[43m \u001B[49m\u001B[43meffective_parameters\u001B[49m\u001B[43m,\u001B[49m\u001B[43m \u001B[49m\u001B[43mcontext\u001B[49m\n\u001B[32m   1969\u001B[39m \u001B[43m        \u001B[49m\u001B[43m)\u001B[49m\n\u001B[32m   1971\u001B[39m \u001B[38;5;28;01mif\u001B[39;00m \u001B[38;5;28mself\u001B[39m._has_events \u001B[38;5;129;01mor\u001B[39;00m \u001B[38;5;28mself\u001B[39m.engine._has_events:\n",
      "\u001B[36mFile \u001B[39m\u001B[32m~/Documents/nyc-taxi-predictions-2025/.venv/lib/python3.13/site-packages/sqlalchemy/engine/default.py:951\u001B[39m, in \u001B[36mDefaultDialect.do_execute\u001B[39m\u001B[34m(self, cursor, statement, parameters, context)\u001B[39m\n\u001B[32m    950\u001B[39m \u001B[38;5;28;01mdef\u001B[39;00m\u001B[38;5;250m \u001B[39m\u001B[34mdo_execute\u001B[39m(\u001B[38;5;28mself\u001B[39m, cursor, statement, parameters, context=\u001B[38;5;28;01mNone\u001B[39;00m):\n\u001B[32m--> \u001B[39m\u001B[32m951\u001B[39m     \u001B[43mcursor\u001B[49m\u001B[43m.\u001B[49m\u001B[43mexecute\u001B[49m\u001B[43m(\u001B[49m\u001B[43mstatement\u001B[49m\u001B[43m,\u001B[49m\u001B[43m \u001B[49m\u001B[43mparameters\u001B[49m\u001B[43m)\u001B[49m\n",
      "\u001B[31mIntegrityError\u001B[39m: UNIQUE constraint failed: registered_models.name",
      "\nThe above exception was the direct cause of the following exception:\n",
      "\u001B[31mIntegrityError\u001B[39m                            Traceback (most recent call last)",
      "\u001B[36mFile \u001B[39m\u001B[32m~/Documents/nyc-taxi-predictions-2025/.venv/lib/python3.13/site-packages/mlflow/store/model_registry/sqlalchemy_store.py:205\u001B[39m, in \u001B[36mSqlAlchemyStore.create_registered_model\u001B[39m\u001B[34m(self, name, tags, description, deployment_job_id)\u001B[39m\n\u001B[32m    204\u001B[39m session.add(registered_model)\n\u001B[32m--> \u001B[39m\u001B[32m205\u001B[39m \u001B[43msession\u001B[49m\u001B[43m.\u001B[49m\u001B[43mflush\u001B[49m\u001B[43m(\u001B[49m\u001B[43m)\u001B[49m\n\u001B[32m    206\u001B[39m \u001B[38;5;28;01mreturn\u001B[39;00m registered_model.to_mlflow_entity()\n",
      "\u001B[36mFile \u001B[39m\u001B[32m~/Documents/nyc-taxi-predictions-2025/.venv/lib/python3.13/site-packages/sqlalchemy/orm/session.py:4331\u001B[39m, in \u001B[36mSession.flush\u001B[39m\u001B[34m(self, objects)\u001B[39m\n\u001B[32m   4330\u001B[39m     \u001B[38;5;28mself\u001B[39m._flushing = \u001B[38;5;28;01mTrue\u001B[39;00m\n\u001B[32m-> \u001B[39m\u001B[32m4331\u001B[39m     \u001B[38;5;28;43mself\u001B[39;49m\u001B[43m.\u001B[49m\u001B[43m_flush\u001B[49m\u001B[43m(\u001B[49m\u001B[43mobjects\u001B[49m\u001B[43m)\u001B[49m\n\u001B[32m   4332\u001B[39m \u001B[38;5;28;01mfinally\u001B[39;00m:\n",
      "\u001B[36mFile \u001B[39m\u001B[32m~/Documents/nyc-taxi-predictions-2025/.venv/lib/python3.13/site-packages/sqlalchemy/orm/session.py:4466\u001B[39m, in \u001B[36mSession._flush\u001B[39m\u001B[34m(self, objects)\u001B[39m\n\u001B[32m   4465\u001B[39m \u001B[38;5;28;01mexcept\u001B[39;00m:\n\u001B[32m-> \u001B[39m\u001B[32m4466\u001B[39m \u001B[43m    \u001B[49m\u001B[38;5;28;43;01mwith\u001B[39;49;00m\u001B[43m \u001B[49m\u001B[43mutil\u001B[49m\u001B[43m.\u001B[49m\u001B[43msafe_reraise\u001B[49m\u001B[43m(\u001B[49m\u001B[43m)\u001B[49m\u001B[43m:\u001B[49m\n\u001B[32m   4467\u001B[39m \u001B[43m        \u001B[49m\u001B[43mtransaction\u001B[49m\u001B[43m.\u001B[49m\u001B[43mrollback\u001B[49m\u001B[43m(\u001B[49m\u001B[43m_capture_exception\u001B[49m\u001B[43m=\u001B[49m\u001B[38;5;28;43;01mTrue\u001B[39;49;00m\u001B[43m)\u001B[49m\n",
      "\u001B[36mFile \u001B[39m\u001B[32m~/Documents/nyc-taxi-predictions-2025/.venv/lib/python3.13/site-packages/sqlalchemy/util/langhelpers.py:224\u001B[39m, in \u001B[36msafe_reraise.__exit__\u001B[39m\u001B[34m(self, type_, value, traceback)\u001B[39m\n\u001B[32m    223\u001B[39m     \u001B[38;5;28mself\u001B[39m._exc_info = \u001B[38;5;28;01mNone\u001B[39;00m  \u001B[38;5;66;03m# remove potential circular references\u001B[39;00m\n\u001B[32m--> \u001B[39m\u001B[32m224\u001B[39m     \u001B[38;5;28;01mraise\u001B[39;00m exc_value.with_traceback(exc_tb)\n\u001B[32m    225\u001B[39m \u001B[38;5;28;01melse\u001B[39;00m:\n",
      "\u001B[36mFile \u001B[39m\u001B[32m~/Documents/nyc-taxi-predictions-2025/.venv/lib/python3.13/site-packages/sqlalchemy/orm/session.py:4427\u001B[39m, in \u001B[36mSession._flush\u001B[39m\u001B[34m(self, objects)\u001B[39m\n\u001B[32m   4426\u001B[39m \u001B[38;5;28;01mtry\u001B[39;00m:\n\u001B[32m-> \u001B[39m\u001B[32m4427\u001B[39m     \u001B[43mflush_context\u001B[49m\u001B[43m.\u001B[49m\u001B[43mexecute\u001B[49m\u001B[43m(\u001B[49m\u001B[43m)\u001B[49m\n\u001B[32m   4428\u001B[39m \u001B[38;5;28;01mfinally\u001B[39;00m:\n",
      "\u001B[36mFile \u001B[39m\u001B[32m~/Documents/nyc-taxi-predictions-2025/.venv/lib/python3.13/site-packages/sqlalchemy/orm/unitofwork.py:466\u001B[39m, in \u001B[36mUOWTransaction.execute\u001B[39m\u001B[34m(self)\u001B[39m\n\u001B[32m    465\u001B[39m \u001B[38;5;28;01mfor\u001B[39;00m rec \u001B[38;5;129;01min\u001B[39;00m topological.sort(\u001B[38;5;28mself\u001B[39m.dependencies, postsort_actions):\n\u001B[32m--> \u001B[39m\u001B[32m466\u001B[39m     \u001B[43mrec\u001B[49m\u001B[43m.\u001B[49m\u001B[43mexecute\u001B[49m\u001B[43m(\u001B[49m\u001B[38;5;28;43mself\u001B[39;49m\u001B[43m)\u001B[49m\n",
      "\u001B[36mFile \u001B[39m\u001B[32m~/Documents/nyc-taxi-predictions-2025/.venv/lib/python3.13/site-packages/sqlalchemy/orm/unitofwork.py:642\u001B[39m, in \u001B[36mSaveUpdateAll.execute\u001B[39m\u001B[34m(self, uow)\u001B[39m\n\u001B[32m    640\u001B[39m \u001B[38;5;129m@util\u001B[39m.preload_module(\u001B[33m\"\u001B[39m\u001B[33msqlalchemy.orm.persistence\u001B[39m\u001B[33m\"\u001B[39m)\n\u001B[32m    641\u001B[39m \u001B[38;5;28;01mdef\u001B[39;00m\u001B[38;5;250m \u001B[39m\u001B[34mexecute\u001B[39m(\u001B[38;5;28mself\u001B[39m, uow):\n\u001B[32m--> \u001B[39m\u001B[32m642\u001B[39m     \u001B[43mutil\u001B[49m\u001B[43m.\u001B[49m\u001B[43mpreloaded\u001B[49m\u001B[43m.\u001B[49m\u001B[43morm_persistence\u001B[49m\u001B[43m.\u001B[49m\u001B[43msave_obj\u001B[49m\u001B[43m(\u001B[49m\n\u001B[32m    643\u001B[39m \u001B[43m        \u001B[49m\u001B[38;5;28;43mself\u001B[39;49m\u001B[43m.\u001B[49m\u001B[43mmapper\u001B[49m\u001B[43m,\u001B[49m\n\u001B[32m    644\u001B[39m \u001B[43m        \u001B[49m\u001B[43muow\u001B[49m\u001B[43m.\u001B[49m\u001B[43mstates_for_mapper_hierarchy\u001B[49m\u001B[43m(\u001B[49m\u001B[38;5;28;43mself\u001B[39;49m\u001B[43m.\u001B[49m\u001B[43mmapper\u001B[49m\u001B[43m,\u001B[49m\u001B[43m \u001B[49m\u001B[38;5;28;43;01mFalse\u001B[39;49;00m\u001B[43m,\u001B[49m\u001B[43m \u001B[49m\u001B[38;5;28;43;01mFalse\u001B[39;49;00m\u001B[43m)\u001B[49m\u001B[43m,\u001B[49m\n\u001B[32m    645\u001B[39m \u001B[43m        \u001B[49m\u001B[43muow\u001B[49m\u001B[43m,\u001B[49m\n\u001B[32m    646\u001B[39m \u001B[43m    \u001B[49m\u001B[43m)\u001B[49m\n",
      "\u001B[36mFile \u001B[39m\u001B[32m~/Documents/nyc-taxi-predictions-2025/.venv/lib/python3.13/site-packages/sqlalchemy/orm/persistence.py:93\u001B[39m, in \u001B[36msave_obj\u001B[39m\u001B[34m(base_mapper, states, uowtransaction, single)\u001B[39m\n\u001B[32m     85\u001B[39m     _emit_update_statements(\n\u001B[32m     86\u001B[39m         base_mapper,\n\u001B[32m     87\u001B[39m         uowtransaction,\n\u001B[32m   (...)\u001B[39m\u001B[32m     90\u001B[39m         update,\n\u001B[32m     91\u001B[39m     )\n\u001B[32m---> \u001B[39m\u001B[32m93\u001B[39m     \u001B[43m_emit_insert_statements\u001B[49m\u001B[43m(\u001B[49m\n\u001B[32m     94\u001B[39m \u001B[43m        \u001B[49m\u001B[43mbase_mapper\u001B[49m\u001B[43m,\u001B[49m\n\u001B[32m     95\u001B[39m \u001B[43m        \u001B[49m\u001B[43muowtransaction\u001B[49m\u001B[43m,\u001B[49m\n\u001B[32m     96\u001B[39m \u001B[43m        \u001B[49m\u001B[43mmapper\u001B[49m\u001B[43m,\u001B[49m\n\u001B[32m     97\u001B[39m \u001B[43m        \u001B[49m\u001B[43mtable\u001B[49m\u001B[43m,\u001B[49m\n\u001B[32m     98\u001B[39m \u001B[43m        \u001B[49m\u001B[43minsert\u001B[49m\u001B[43m,\u001B[49m\n\u001B[32m     99\u001B[39m \u001B[43m    \u001B[49m\u001B[43m)\u001B[49m\n\u001B[32m    101\u001B[39m _finalize_insert_update_commands(\n\u001B[32m    102\u001B[39m     base_mapper,\n\u001B[32m    103\u001B[39m     uowtransaction,\n\u001B[32m   (...)\u001B[39m\u001B[32m    119\u001B[39m     ),\n\u001B[32m    120\u001B[39m )\n",
      "\u001B[36mFile \u001B[39m\u001B[32m~/Documents/nyc-taxi-predictions-2025/.venv/lib/python3.13/site-packages/sqlalchemy/orm/persistence.py:1048\u001B[39m, in \u001B[36m_emit_insert_statements\u001B[39m\u001B[34m(base_mapper, uowtransaction, mapper, table, insert, bookkeeping, use_orm_insert_stmt, execution_options)\u001B[39m\n\u001B[32m   1046\u001B[39m multiparams = [rec[\u001B[32m2\u001B[39m] \u001B[38;5;28;01mfor\u001B[39;00m rec \u001B[38;5;129;01min\u001B[39;00m records]\n\u001B[32m-> \u001B[39m\u001B[32m1048\u001B[39m result = \u001B[43mconnection\u001B[49m\u001B[43m.\u001B[49m\u001B[43mexecute\u001B[49m\u001B[43m(\u001B[49m\n\u001B[32m   1049\u001B[39m \u001B[43m    \u001B[49m\u001B[43mstatement\u001B[49m\u001B[43m,\u001B[49m\u001B[43m \u001B[49m\u001B[43mmultiparams\u001B[49m\u001B[43m,\u001B[49m\u001B[43m \u001B[49m\u001B[43mexecution_options\u001B[49m\u001B[43m=\u001B[49m\u001B[43mexecution_options\u001B[49m\n\u001B[32m   1050\u001B[39m \u001B[43m\u001B[49m\u001B[43m)\u001B[49m\n\u001B[32m   1051\u001B[39m \u001B[38;5;28;01mif\u001B[39;00m bookkeeping:\n",
      "\u001B[36mFile \u001B[39m\u001B[32m~/Documents/nyc-taxi-predictions-2025/.venv/lib/python3.13/site-packages/sqlalchemy/engine/base.py:1419\u001B[39m, in \u001B[36mConnection.execute\u001B[39m\u001B[34m(self, statement, parameters, execution_options)\u001B[39m\n\u001B[32m   1418\u001B[39m \u001B[38;5;28;01melse\u001B[39;00m:\n\u001B[32m-> \u001B[39m\u001B[32m1419\u001B[39m     \u001B[38;5;28;01mreturn\u001B[39;00m \u001B[43mmeth\u001B[49m\u001B[43m(\u001B[49m\n\u001B[32m   1420\u001B[39m \u001B[43m        \u001B[49m\u001B[38;5;28;43mself\u001B[39;49m\u001B[43m,\u001B[49m\n\u001B[32m   1421\u001B[39m \u001B[43m        \u001B[49m\u001B[43mdistilled_parameters\u001B[49m\u001B[43m,\u001B[49m\n\u001B[32m   1422\u001B[39m \u001B[43m        \u001B[49m\u001B[43mexecution_options\u001B[49m\u001B[43m \u001B[49m\u001B[38;5;129;43;01mor\u001B[39;49;00m\u001B[43m \u001B[49m\u001B[43mNO_OPTIONS\u001B[49m\u001B[43m,\u001B[49m\n\u001B[32m   1423\u001B[39m \u001B[43m    \u001B[49m\u001B[43m)\u001B[49m\n",
      "\u001B[36mFile \u001B[39m\u001B[32m~/Documents/nyc-taxi-predictions-2025/.venv/lib/python3.13/site-packages/sqlalchemy/sql/elements.py:526\u001B[39m, in \u001B[36mClauseElement._execute_on_connection\u001B[39m\u001B[34m(self, connection, distilled_params, execution_options)\u001B[39m\n\u001B[32m    525\u001B[39m         \u001B[38;5;28;01massert\u001B[39;00m \u001B[38;5;28misinstance\u001B[39m(\u001B[38;5;28mself\u001B[39m, Executable)\n\u001B[32m--> \u001B[39m\u001B[32m526\u001B[39m     \u001B[38;5;28;01mreturn\u001B[39;00m \u001B[43mconnection\u001B[49m\u001B[43m.\u001B[49m\u001B[43m_execute_clauseelement\u001B[49m\u001B[43m(\u001B[49m\n\u001B[32m    527\u001B[39m \u001B[43m        \u001B[49m\u001B[38;5;28;43mself\u001B[39;49m\u001B[43m,\u001B[49m\u001B[43m \u001B[49m\u001B[43mdistilled_params\u001B[49m\u001B[43m,\u001B[49m\u001B[43m \u001B[49m\u001B[43mexecution_options\u001B[49m\n\u001B[32m    528\u001B[39m \u001B[43m    \u001B[49m\u001B[43m)\u001B[49m\n\u001B[32m    529\u001B[39m \u001B[38;5;28;01melse\u001B[39;00m:\n",
      "\u001B[36mFile \u001B[39m\u001B[32m~/Documents/nyc-taxi-predictions-2025/.venv/lib/python3.13/site-packages/sqlalchemy/engine/base.py:1641\u001B[39m, in \u001B[36mConnection._execute_clauseelement\u001B[39m\u001B[34m(self, elem, distilled_parameters, execution_options)\u001B[39m\n\u001B[32m   1633\u001B[39m compiled_sql, extracted_params, cache_hit = elem._compile_w_cache(\n\u001B[32m   1634\u001B[39m     dialect=dialect,\n\u001B[32m   1635\u001B[39m     compiled_cache=compiled_cache,\n\u001B[32m   (...)\u001B[39m\u001B[32m   1639\u001B[39m     linting=\u001B[38;5;28mself\u001B[39m.dialect.compiler_linting | compiler.WARN_LINTING,\n\u001B[32m   1640\u001B[39m )\n\u001B[32m-> \u001B[39m\u001B[32m1641\u001B[39m ret = \u001B[38;5;28;43mself\u001B[39;49m\u001B[43m.\u001B[49m\u001B[43m_execute_context\u001B[49m\u001B[43m(\u001B[49m\n\u001B[32m   1642\u001B[39m \u001B[43m    \u001B[49m\u001B[43mdialect\u001B[49m\u001B[43m,\u001B[49m\n\u001B[32m   1643\u001B[39m \u001B[43m    \u001B[49m\u001B[43mdialect\u001B[49m\u001B[43m.\u001B[49m\u001B[43mexecution_ctx_cls\u001B[49m\u001B[43m.\u001B[49m\u001B[43m_init_compiled\u001B[49m\u001B[43m,\u001B[49m\n\u001B[32m   1644\u001B[39m \u001B[43m    \u001B[49m\u001B[43mcompiled_sql\u001B[49m\u001B[43m,\u001B[49m\n\u001B[32m   1645\u001B[39m \u001B[43m    \u001B[49m\u001B[43mdistilled_parameters\u001B[49m\u001B[43m,\u001B[49m\n\u001B[32m   1646\u001B[39m \u001B[43m    \u001B[49m\u001B[43mexecution_options\u001B[49m\u001B[43m,\u001B[49m\n\u001B[32m   1647\u001B[39m \u001B[43m    \u001B[49m\u001B[43mcompiled_sql\u001B[49m\u001B[43m,\u001B[49m\n\u001B[32m   1648\u001B[39m \u001B[43m    \u001B[49m\u001B[43mdistilled_parameters\u001B[49m\u001B[43m,\u001B[49m\n\u001B[32m   1649\u001B[39m \u001B[43m    \u001B[49m\u001B[43melem\u001B[49m\u001B[43m,\u001B[49m\n\u001B[32m   1650\u001B[39m \u001B[43m    \u001B[49m\u001B[43mextracted_params\u001B[49m\u001B[43m,\u001B[49m\n\u001B[32m   1651\u001B[39m \u001B[43m    \u001B[49m\u001B[43mcache_hit\u001B[49m\u001B[43m=\u001B[49m\u001B[43mcache_hit\u001B[49m\u001B[43m,\u001B[49m\n\u001B[32m   1652\u001B[39m \u001B[43m\u001B[49m\u001B[43m)\u001B[49m\n\u001B[32m   1653\u001B[39m \u001B[38;5;28;01mif\u001B[39;00m has_events:\n",
      "\u001B[36mFile \u001B[39m\u001B[32m~/Documents/nyc-taxi-predictions-2025/.venv/lib/python3.13/site-packages/sqlalchemy/engine/base.py:1846\u001B[39m, in \u001B[36mConnection._execute_context\u001B[39m\u001B[34m(self, dialect, constructor, statement, parameters, execution_options, *args, **kw)\u001B[39m\n\u001B[32m   1845\u001B[39m \u001B[38;5;28;01melse\u001B[39;00m:\n\u001B[32m-> \u001B[39m\u001B[32m1846\u001B[39m     \u001B[38;5;28;01mreturn\u001B[39;00m \u001B[38;5;28;43mself\u001B[39;49m\u001B[43m.\u001B[49m\u001B[43m_exec_single_context\u001B[49m\u001B[43m(\u001B[49m\n\u001B[32m   1847\u001B[39m \u001B[43m        \u001B[49m\u001B[43mdialect\u001B[49m\u001B[43m,\u001B[49m\u001B[43m \u001B[49m\u001B[43mcontext\u001B[49m\u001B[43m,\u001B[49m\u001B[43m \u001B[49m\u001B[43mstatement\u001B[49m\u001B[43m,\u001B[49m\u001B[43m \u001B[49m\u001B[43mparameters\u001B[49m\n\u001B[32m   1848\u001B[39m \u001B[43m    \u001B[49m\u001B[43m)\u001B[49m\n",
      "\u001B[36mFile \u001B[39m\u001B[32m~/Documents/nyc-taxi-predictions-2025/.venv/lib/python3.13/site-packages/sqlalchemy/engine/base.py:1986\u001B[39m, in \u001B[36mConnection._exec_single_context\u001B[39m\u001B[34m(self, dialect, context, statement, parameters)\u001B[39m\n\u001B[32m   1985\u001B[39m \u001B[38;5;28;01mexcept\u001B[39;00m \u001B[38;5;167;01mBaseException\u001B[39;00m \u001B[38;5;28;01mas\u001B[39;00m e:\n\u001B[32m-> \u001B[39m\u001B[32m1986\u001B[39m     \u001B[38;5;28;43mself\u001B[39;49m\u001B[43m.\u001B[49m\u001B[43m_handle_dbapi_exception\u001B[49m\u001B[43m(\u001B[49m\n\u001B[32m   1987\u001B[39m \u001B[43m        \u001B[49m\u001B[43me\u001B[49m\u001B[43m,\u001B[49m\u001B[43m \u001B[49m\u001B[43mstr_statement\u001B[49m\u001B[43m,\u001B[49m\u001B[43m \u001B[49m\u001B[43meffective_parameters\u001B[49m\u001B[43m,\u001B[49m\u001B[43m \u001B[49m\u001B[43mcursor\u001B[49m\u001B[43m,\u001B[49m\u001B[43m \u001B[49m\u001B[43mcontext\u001B[49m\n\u001B[32m   1988\u001B[39m \u001B[43m    \u001B[49m\u001B[43m)\u001B[49m\n\u001B[32m   1990\u001B[39m \u001B[38;5;28;01mreturn\u001B[39;00m result\n",
      "\u001B[36mFile \u001B[39m\u001B[32m~/Documents/nyc-taxi-predictions-2025/.venv/lib/python3.13/site-packages/sqlalchemy/engine/base.py:2355\u001B[39m, in \u001B[36mConnection._handle_dbapi_exception\u001B[39m\u001B[34m(self, e, statement, parameters, cursor, context, is_sub_exec)\u001B[39m\n\u001B[32m   2354\u001B[39m     \u001B[38;5;28;01massert\u001B[39;00m sqlalchemy_exception \u001B[38;5;129;01mis\u001B[39;00m \u001B[38;5;129;01mnot\u001B[39;00m \u001B[38;5;28;01mNone\u001B[39;00m\n\u001B[32m-> \u001B[39m\u001B[32m2355\u001B[39m     \u001B[38;5;28;01mraise\u001B[39;00m sqlalchemy_exception.with_traceback(exc_info[\u001B[32m2\u001B[39m]) \u001B[38;5;28;01mfrom\u001B[39;00m\u001B[38;5;250m \u001B[39m\u001B[34;01me\u001B[39;00m\n\u001B[32m   2356\u001B[39m \u001B[38;5;28;01melse\u001B[39;00m:\n",
      "\u001B[36mFile \u001B[39m\u001B[32m~/Documents/nyc-taxi-predictions-2025/.venv/lib/python3.13/site-packages/sqlalchemy/engine/base.py:1967\u001B[39m, in \u001B[36mConnection._exec_single_context\u001B[39m\u001B[34m(self, dialect, context, statement, parameters)\u001B[39m\n\u001B[32m   1966\u001B[39m     \u001B[38;5;28;01mif\u001B[39;00m \u001B[38;5;129;01mnot\u001B[39;00m evt_handled:\n\u001B[32m-> \u001B[39m\u001B[32m1967\u001B[39m         \u001B[38;5;28;43mself\u001B[39;49m\u001B[43m.\u001B[49m\u001B[43mdialect\u001B[49m\u001B[43m.\u001B[49m\u001B[43mdo_execute\u001B[49m\u001B[43m(\u001B[49m\n\u001B[32m   1968\u001B[39m \u001B[43m            \u001B[49m\u001B[43mcursor\u001B[49m\u001B[43m,\u001B[49m\u001B[43m \u001B[49m\u001B[43mstr_statement\u001B[49m\u001B[43m,\u001B[49m\u001B[43m \u001B[49m\u001B[43meffective_parameters\u001B[49m\u001B[43m,\u001B[49m\u001B[43m \u001B[49m\u001B[43mcontext\u001B[49m\n\u001B[32m   1969\u001B[39m \u001B[43m        \u001B[49m\u001B[43m)\u001B[49m\n\u001B[32m   1971\u001B[39m \u001B[38;5;28;01mif\u001B[39;00m \u001B[38;5;28mself\u001B[39m._has_events \u001B[38;5;129;01mor\u001B[39;00m \u001B[38;5;28mself\u001B[39m.engine._has_events:\n",
      "\u001B[36mFile \u001B[39m\u001B[32m~/Documents/nyc-taxi-predictions-2025/.venv/lib/python3.13/site-packages/sqlalchemy/engine/default.py:951\u001B[39m, in \u001B[36mDefaultDialect.do_execute\u001B[39m\u001B[34m(self, cursor, statement, parameters, context)\u001B[39m\n\u001B[32m    950\u001B[39m \u001B[38;5;28;01mdef\u001B[39;00m\u001B[38;5;250m \u001B[39m\u001B[34mdo_execute\u001B[39m(\u001B[38;5;28mself\u001B[39m, cursor, statement, parameters, context=\u001B[38;5;28;01mNone\u001B[39;00m):\n\u001B[32m--> \u001B[39m\u001B[32m951\u001B[39m     \u001B[43mcursor\u001B[49m\u001B[43m.\u001B[49m\u001B[43mexecute\u001B[49m\u001B[43m(\u001B[49m\u001B[43mstatement\u001B[49m\u001B[43m,\u001B[49m\u001B[43m \u001B[49m\u001B[43mparameters\u001B[49m\u001B[43m)\u001B[49m\n",
      "\u001B[31mIntegrityError\u001B[39m: (sqlite3.IntegrityError) UNIQUE constraint failed: registered_models.name\n[SQL: INSERT INTO registered_models (name, creation_time, last_updated_time, description) VALUES (?, ?, ?, ?)]\n[parameters: ('nyc-taxi-model', 1760668115949, 1760668115949, None)]\n(Background on this error at: https://sqlalche.me/e/20/gkpj)",
      "\nDuring handling of the above exception, another exception occurred:\n",
      "\u001B[31mMlflowException\u001B[39m                           Traceback (most recent call last)",
      "\u001B[36mCell\u001B[39m\u001B[36m \u001B[39m\u001B[32mIn[10]\u001B[39m\u001B[32m, line 1\u001B[39m\n\u001B[32m----> \u001B[39m\u001B[32m1\u001B[39m \u001B[43mclient\u001B[49m\u001B[43m.\u001B[49m\u001B[43mcreate_registered_model\u001B[49m\u001B[43m(\u001B[49m\u001B[43mname\u001B[49m\u001B[43m=\u001B[49m\u001B[33;43m\"\u001B[39;49m\u001B[33;43mnyc-taxi-model\u001B[39;49m\u001B[33;43m\"\u001B[39;49m\u001B[43m)\u001B[49m\n",
      "\u001B[36mFile \u001B[39m\u001B[32m~/Documents/nyc-taxi-predictions-2025/.venv/lib/python3.13/site-packages/mlflow/tracking/client.py:3688\u001B[39m, in \u001B[36mMlflowClient.create_registered_model\u001B[39m\u001B[34m(self, name, tags, description, deployment_job_id)\u001B[39m\n\u001B[32m   3685\u001B[39m \u001B[38;5;28;01mif\u001B[39;00m has_prompt_tag(tags):\n\u001B[32m   3686\u001B[39m     \u001B[38;5;28;01mraise\u001B[39;00m MlflowException.invalid_parameter_value(\u001B[33m\"\u001B[39m\u001B[33mPrompts cannot be registered as models.\u001B[39m\u001B[33m\"\u001B[39m)\n\u001B[32m-> \u001B[39m\u001B[32m3688\u001B[39m \u001B[38;5;28;01mreturn\u001B[39;00m \u001B[38;5;28;43mself\u001B[39;49m\u001B[43m.\u001B[49m\u001B[43m_get_registry_client\u001B[49m\u001B[43m(\u001B[49m\u001B[43m)\u001B[49m\u001B[43m.\u001B[49m\u001B[43mcreate_registered_model\u001B[49m\u001B[43m(\u001B[49m\n\u001B[32m   3689\u001B[39m \u001B[43m    \u001B[49m\u001B[43mname\u001B[49m\u001B[43m,\u001B[49m\u001B[43m \u001B[49m\u001B[43mtags\u001B[49m\u001B[43m,\u001B[49m\u001B[43m \u001B[49m\u001B[43mdescription\u001B[49m\u001B[43m,\u001B[49m\u001B[43m \u001B[49m\u001B[43mdeployment_job_id\u001B[49m\n\u001B[32m   3690\u001B[39m \u001B[43m\u001B[49m\u001B[43m)\u001B[49m\n",
      "\u001B[36mFile \u001B[39m\u001B[32m~/Documents/nyc-taxi-predictions-2025/.venv/lib/python3.13/site-packages/mlflow/telemetry/track.py:24\u001B[39m, in \u001B[36mrecord_usage_event.<locals>.decorator.<locals>.wrapper\u001B[39m\u001B[34m(*args, **kwargs)\u001B[39m\n\u001B[32m     21\u001B[39m \u001B[38;5;129m@functools\u001B[39m.wraps(func)\n\u001B[32m     22\u001B[39m \u001B[38;5;28;01mdef\u001B[39;00m\u001B[38;5;250m \u001B[39m\u001B[34mwrapper\u001B[39m(*args: P.args, **kwargs: P.kwargs) -> R:\n\u001B[32m     23\u001B[39m     \u001B[38;5;28;01mif\u001B[39;00m is_telemetry_disabled() \u001B[38;5;129;01mor\u001B[39;00m _is_telemetry_disabled_for_event(event):\n\u001B[32m---> \u001B[39m\u001B[32m24\u001B[39m         \u001B[38;5;28;01mreturn\u001B[39;00m \u001B[43mfunc\u001B[49m\u001B[43m(\u001B[49m\u001B[43m*\u001B[49m\u001B[43margs\u001B[49m\u001B[43m,\u001B[49m\u001B[43m \u001B[49m\u001B[43m*\u001B[49m\u001B[43m*\u001B[49m\u001B[43mkwargs\u001B[49m\u001B[43m)\u001B[49m\n\u001B[32m     26\u001B[39m     success = \u001B[38;5;28;01mTrue\u001B[39;00m\n\u001B[32m     27\u001B[39m     result = \u001B[38;5;28;01mNone\u001B[39;00m\n",
      "\u001B[36mFile \u001B[39m\u001B[32m~/Documents/nyc-taxi-predictions-2025/.venv/lib/python3.13/site-packages/mlflow/tracking/_model_registry/client.py:95\u001B[39m, in \u001B[36mModelRegistryClient.create_registered_model\u001B[39m\u001B[34m(self, name, tags, description, deployment_job_id)\u001B[39m\n\u001B[32m     93\u001B[39m tags = tags \u001B[38;5;28;01mif\u001B[39;00m tags \u001B[38;5;28;01melse\u001B[39;00m {}\n\u001B[32m     94\u001B[39m tags = [RegisteredModelTag(key, \u001B[38;5;28mstr\u001B[39m(value)) \u001B[38;5;28;01mfor\u001B[39;00m key, value \u001B[38;5;129;01min\u001B[39;00m tags.items()]\n\u001B[32m---> \u001B[39m\u001B[32m95\u001B[39m \u001B[38;5;28;01mreturn\u001B[39;00m \u001B[38;5;28;43mself\u001B[39;49m\u001B[43m.\u001B[49m\u001B[43mstore\u001B[49m\u001B[43m.\u001B[49m\u001B[43mcreate_registered_model\u001B[49m\u001B[43m(\u001B[49m\u001B[43mname\u001B[49m\u001B[43m,\u001B[49m\u001B[43m \u001B[49m\u001B[43mtags\u001B[49m\u001B[43m,\u001B[49m\u001B[43m \u001B[49m\u001B[43mdescription\u001B[49m\u001B[43m,\u001B[49m\u001B[43m \u001B[49m\u001B[43mdeployment_job_id\u001B[49m\u001B[43m)\u001B[49m\n",
      "\u001B[36mFile \u001B[39m\u001B[32m~/Documents/nyc-taxi-predictions-2025/.venv/lib/python3.13/site-packages/mlflow/store/model_registry/sqlalchemy_store.py:209\u001B[39m, in \u001B[36mSqlAlchemyStore.create_registered_model\u001B[39m\u001B[34m(self, name, tags, description, deployment_job_id)\u001B[39m\n\u001B[32m    207\u001B[39m \u001B[38;5;28;01mexcept\u001B[39;00m sqlalchemy.exc.IntegrityError:\n\u001B[32m    208\u001B[39m     existing_model = \u001B[38;5;28mself\u001B[39m.get_registered_model(name)\n\u001B[32m--> \u001B[39m\u001B[32m209\u001B[39m     \u001B[43mhandle_resource_already_exist_error\u001B[49m\u001B[43m(\u001B[49m\n\u001B[32m    210\u001B[39m \u001B[43m        \u001B[49m\u001B[43mname\u001B[49m\u001B[43m,\u001B[49m\u001B[43m \u001B[49m\u001B[43mhas_prompt_tag\u001B[49m\u001B[43m(\u001B[49m\u001B[43mexisting_model\u001B[49m\u001B[43m.\u001B[49m\u001B[43m_tags\u001B[49m\u001B[43m)\u001B[49m\u001B[43m,\u001B[49m\u001B[43m \u001B[49m\u001B[43mhas_prompt_tag\u001B[49m\u001B[43m(\u001B[49m\u001B[43mtags\u001B[49m\u001B[43m)\u001B[49m\n\u001B[32m    211\u001B[39m \u001B[43m    \u001B[49m\u001B[43m)\u001B[49m\n",
      "\u001B[36mFile \u001B[39m\u001B[32m~/Documents/nyc-taxi-predictions-2025/.venv/lib/python3.13/site-packages/mlflow/prompt/registry_utils.py:217\u001B[39m, in \u001B[36mhandle_resource_already_exist_error\u001B[39m\u001B[34m(name, is_existing_entity_prompt, is_new_entity_prompt)\u001B[39m\n\u001B[32m    209\u001B[39m \u001B[38;5;28;01mif\u001B[39;00m old_entity != new_entity:\n\u001B[32m    210\u001B[39m     \u001B[38;5;28;01mraise\u001B[39;00m MlflowException(\n\u001B[32m    211\u001B[39m         \u001B[33mf\u001B[39m\u001B[33m\"\u001B[39m\u001B[33mTried to create a \u001B[39m\u001B[38;5;132;01m{\u001B[39;00mnew_entity.lower()\u001B[38;5;132;01m}\u001B[39;00m\u001B[33m with name \u001B[39m\u001B[38;5;132;01m{\u001B[39;00mname\u001B[38;5;132;01m!r}\u001B[39;00m\u001B[33m, but the name is \u001B[39m\u001B[33m\"\u001B[39m\n\u001B[32m    212\u001B[39m         \u001B[33mf\u001B[39m\u001B[33m\"\u001B[39m\u001B[33malready taken by a \u001B[39m\u001B[38;5;132;01m{\u001B[39;00mold_entity.lower()\u001B[38;5;132;01m}\u001B[39;00m\u001B[33m. MLflow does not allow creating a \u001B[39m\u001B[33m\"\u001B[39m\n\u001B[32m    213\u001B[39m         \u001B[33m\"\u001B[39m\u001B[33mmodel and a prompt with the same name.\u001B[39m\u001B[33m\"\u001B[39m,\n\u001B[32m    214\u001B[39m         RESOURCE_ALREADY_EXISTS,\n\u001B[32m    215\u001B[39m     )\n\u001B[32m--> \u001B[39m\u001B[32m217\u001B[39m \u001B[38;5;28;01mraise\u001B[39;00m MlflowException(\n\u001B[32m    218\u001B[39m     \u001B[33mf\u001B[39m\u001B[33m\"\u001B[39m\u001B[38;5;132;01m{\u001B[39;00mnew_entity\u001B[38;5;132;01m}\u001B[39;00m\u001B[33m (name=\u001B[39m\u001B[38;5;132;01m{\u001B[39;00mname\u001B[38;5;132;01m}\u001B[39;00m\u001B[33m) already exists.\u001B[39m\u001B[33m\"\u001B[39m,\n\u001B[32m    219\u001B[39m     RESOURCE_ALREADY_EXISTS,\n\u001B[32m    220\u001B[39m )\n",
      "\u001B[31mMlflowException\u001B[39m: Registered Model (name=nyc-taxi-model) already exists."
     ]
    }
   ],
   "execution_count": 10
  },
  {
   "metadata": {
    "ExecuteTime": {
     "end_time": "2025-10-17T02:31:11.261389Z",
     "start_time": "2025-10-17T02:31:08.188774Z"
    }
   },
   "cell_type": "code",
   "source": [
    "run_id = input(\"Ingrese el run_id\")\n",
    "run_uri = f\"runs:/{run_id}/model\"\n",
    "\n",
    "result = client.create_model_version(\n",
    "    name=\"nyc-taxi-model\",\n",
    "    source=run_uri,\n",
    "    run_id=run_id\n",
    ")"
   ],
   "id": "3b6b93f38dc74610",
   "outputs": [],
   "execution_count": 11
  },
  {
   "metadata": {},
   "cell_type": "markdown",
   "source": "# Asignar alias",
   "id": "98b7589e6afe47f"
  },
  {
   "metadata": {
    "ExecuteTime": {
     "end_time": "2025-10-17T02:43:18.458917Z",
     "start_time": "2025-10-17T02:43:18.403868Z"
    }
   },
   "cell_type": "code",
   "source": [
    "# Champion\n",
    "client.set_registered_model_alias(\n",
    "    name=\"nyc-taxi-model\",\n",
    "    alias=\"champion\",\n",
    "    version=6\n",
    ")"
   ],
   "id": "650713b6c138c6f6",
   "outputs": [],
   "execution_count": 12
  },
  {
   "metadata": {
    "ExecuteTime": {
     "end_time": "2025-10-17T02:44:16.926068Z",
     "start_time": "2025-10-17T02:44:16.912674Z"
    }
   },
   "cell_type": "code",
   "source": [
    "# Challenger\n",
    "client.set_registered_model_alias(\n",
    "    name=\"nyc-taxi-model\",\n",
    "    alias=\"challenger\",\n",
    "    version=5\n",
    ")"
   ],
   "id": "3cf4aa6baefcc89d",
   "outputs": [],
   "execution_count": 13
  },
  {
   "metadata": {},
   "cell_type": "markdown",
   "source": "# Actualizar una versión de un modelo",
   "id": "4cc3b48bb87677e3"
  },
  {
   "metadata": {
    "ExecuteTime": {
     "end_time": "2025-10-17T02:47:08.746416Z",
     "start_time": "2025-10-17T02:47:08.725080Z"
    }
   },
   "cell_type": "code",
   "source": [
    "client.update_model_version(\n",
    "    name=\"nyc-taxi-model\",\n",
    "    version=5,\n",
    "    description=\"This model version is a scikit-learn random forest containing 100 decision trees\",\n",
    ")"
   ],
   "id": "59be4981c5c09b6e",
   "outputs": [
    {
     "data": {
      "text/plain": [
       "<ModelVersion: aliases=['challenger'], creation_timestamp=1760668113791, current_stage='None', deployment_job_state=None, description=('This model version is a scikit-learn random forest containing 100 decision '\n",
       " 'trees'), last_updated_timestamp=1760669228733, metrics=None, model_id=None, name='nyc-taxi-model', params=None, run_id='abc14fc43b9643629148230abb42ddd4', run_link=None, source='models:/m-4dfdf91aafb2404f9015aa92e3b43467', status='READY', status_message=None, tags={}, user_id=None, version=5>"
      ]
     },
     "execution_count": 14,
     "metadata": {},
     "output_type": "execute_result"
    }
   ],
   "execution_count": 14
  },
  {
   "metadata": {},
   "cell_type": "markdown",
   "source": "# Borrar un alias",
   "id": "9bebdf59c1afdef0"
  },
  {
   "metadata": {
    "ExecuteTime": {
     "end_time": "2025-10-17T02:48:34.562796Z",
     "start_time": "2025-10-17T02:48:34.548897Z"
    }
   },
   "cell_type": "code",
   "source": [
    "# delete the alias\n",
    "client.delete_registered_model_alias(\n",
    "    name=\"nyc-taxi-model\",\n",
    "    alias=\"challenger\"\n",
    ")"
   ],
   "id": "48e661df187f7861",
   "outputs": [],
   "execution_count": 15
  },
  {
   "metadata": {},
   "cell_type": "markdown",
   "source": "# Obtener version por alias",
   "id": "5317e3e38a07e967"
  },
  {
   "metadata": {
    "ExecuteTime": {
     "end_time": "2025-10-17T02:50:00.786372Z",
     "start_time": "2025-10-17T02:50:00.776623Z"
    }
   },
   "cell_type": "code",
   "source": [
    "# get a model version by alias\n",
    "champion_model = client.get_model_version_by_alias(\n",
    "    name=\"nyc-taxi-model\",\n",
    "    alias=\"champion\"\n",
    ")\n",
    "\n",
    "print(champion_model.version)"
   ],
   "id": "797fb4e6b1de39d1",
   "outputs": [
    {
     "name": "stdout",
     "output_type": "stream",
     "text": [
      "6\n"
     ]
    }
   ],
   "execution_count": 17
  },
  {
   "metadata": {},
   "cell_type": "markdown",
   "source": "# Obtener modelo",
   "id": "8bb273bc9a93061d"
  },
  {
   "metadata": {
    "ExecuteTime": {
     "end_time": "2025-10-17T03:05:10.181268Z",
     "start_time": "2025-10-17T03:05:09.861588Z"
    }
   },
   "cell_type": "code",
   "source": [
    "import mlflow.pyfunc\n",
    "\n",
    "model_name = \"nyc-taxi-model\"\n",
    "model_version = 6\n",
    "\n",
    "model_uri = f\"models:/{model_name}/{model_version}\"\n",
    "\n",
    "model = mlflow.pyfunc.load_model(\n",
    "    model_uri=model_uri\n",
    ")\n",
    "\n",
    "model.predict(X_val)"
   ],
   "id": "dfa9d6ec51a9cb69",
   "outputs": [
    {
     "data": {
      "text/plain": [
       "array([15.02976639, 15.02976639, 15.02976639, ..., 15.02976639,\n",
       "       15.02976639, 15.02976639], shape=(44218,))"
      ]
     },
     "execution_count": 44,
     "metadata": {},
     "output_type": "execute_result"
    }
   ],
   "execution_count": 44
  },
  {
   "metadata": {
    "ExecuteTime": {
     "end_time": "2025-10-17T03:05:25.494961Z",
     "start_time": "2025-10-17T03:05:25.174201Z"
    }
   },
   "cell_type": "code",
   "source": [
    "\n",
    "model_name = \"nyc-taxi-model\"\n",
    "alias = \"champion\"\n",
    "\n",
    "model_uri = f\"models:/{model_name}@{alias}\"\n",
    "\n",
    "champion_version = mlflow.pyfunc.load_model(\n",
    "    model_uri=model_uri\n",
    ")\n",
    "\n",
    "# champion_version\n",
    "champion_version.predict(X_val)"
   ],
   "id": "7867fa4899a36645",
   "outputs": [
    {
     "data": {
      "text/plain": [
       "array([15.02976639, 15.02976639, 15.02976639, ..., 15.02976639,\n",
       "       15.02976639, 15.02976639], shape=(44218,))"
      ]
     },
     "execution_count": 45,
     "metadata": {},
     "output_type": "execute_result"
    }
   ],
   "execution_count": 45
  },
  {
   "metadata": {},
   "cell_type": "markdown",
   "source": "# Comparar modelos",
   "id": "13b0b87ced84548d"
  },
  {
   "metadata": {
    "ExecuteTime": {
     "end_time": "2025-10-17T03:12:23.451199Z",
     "start_time": "2025-10-17T03:12:23.444632Z"
    }
   },
   "cell_type": "code",
   "source": [
    "def read_dataframe(filename):\n",
    "    df = pd.read_parquet(filename)\n",
    "\n",
    "    df.lpep_dropoff_datetime = pd.to_datetime(df.lpep_dropoff_datetime)\n",
    "    df.lpep_pickup_datetime = pd.to_datetime(df.lpep_pickup_datetime)\n",
    "\n",
    "    df['duration'] = df.lpep_dropoff_datetime - df.lpep_pickup_datetime\n",
    "    df.duration = df.duration.apply(lambda td: td.total_seconds() / 60)\n",
    "\n",
    "    df = df[(df.duration >= 1) & (df.duration <= 60)]\n",
    "\n",
    "    categorical = ['PULocationID', 'DOLocationID']\n",
    "    df[categorical] = df[categorical].astype(str)\n",
    "\n",
    "    return df\n",
    "\n",
    "\n",
    "def preprocess(df, dv):\n",
    "    df['PU_DO'] = df['PULocationID'] + '_' + df['DOLocationID']\n",
    "    categorical = ['PU_DO']\n",
    "    numerical = ['trip_distance']\n",
    "    train_dicts = df[categorical + numerical].to_dict(orient='records')\n",
    "    return dv.transform(train_dicts)\n",
    "\n",
    "\n",
    "def test_model(name, alias, X_test, y_test):\n",
    "    model = mlflow.pyfunc.load_model(f\"models:/{name}@{alias}\")\n",
    "    y_pred = model.predict(X_test)\n",
    "    return {\"rmse\": root_mean_squared_error(y_test, y_pred)}"
   ],
   "id": "2149be9ba3ce8e65",
   "outputs": [],
   "execution_count": 46
  },
  {
   "metadata": {
    "ExecuteTime": {
     "end_time": "2025-10-17T03:13:13.836831Z",
     "start_time": "2025-10-17T03:13:13.096755Z"
    }
   },
   "cell_type": "code",
   "source": "df = read_dataframe(\"../data/green_tripdata_2025-03.parquet\")",
   "id": "bc4405fd9c4e84b2",
   "outputs": [],
   "execution_count": 48
  },
  {
   "metadata": {
    "ExecuteTime": {
     "end_time": "2025-10-17T03:15:16.286294Z",
     "start_time": "2025-10-17T03:15:14.056747Z"
    }
   },
   "cell_type": "code",
   "source": [
    "# Descargar Preprocesador\n",
    "run_id = input(\"Ingrese el run_id\")\n",
    "\n",
    "client.download_artifacts(\n",
    "    run_id=run_id,\n",
    "    path='preprocessor',\n",
    "    dst_path='.'\n",
    ")"
   ],
   "id": "6793a5bfeaa0e56b",
   "outputs": [
    {
     "data": {
      "text/plain": [
       "'/Users/cristianzapata/Documents/nyc-taxi-predictions-2025/notebooks/preprocessor'"
      ]
     },
     "execution_count": 49,
     "metadata": {},
     "output_type": "execute_result"
    }
   ],
   "execution_count": 49
  },
  {
   "metadata": {
    "ExecuteTime": {
     "end_time": "2025-10-17T03:17:03.504143Z",
     "start_time": "2025-10-17T03:17:03.496627Z"
    }
   },
   "cell_type": "code",
   "source": [
    "import pickle\n",
    "\n",
    "with open(\"preprocessor/preprocessor.b\", \"rb\") as f_in:\n",
    "    dv = pickle.load(f_in)"
   ],
   "id": "3c3c99be9788f24a",
   "outputs": [],
   "execution_count": 50
  },
  {
   "metadata": {
    "ExecuteTime": {
     "end_time": "2025-10-17T03:17:30.567034Z",
     "start_time": "2025-10-17T03:17:30.421522Z"
    }
   },
   "cell_type": "code",
   "source": "X_test = preprocess(df, dv)",
   "id": "662bece5c4bb82a9",
   "outputs": [],
   "execution_count": 51
  },
  {
   "metadata": {
    "ExecuteTime": {
     "end_time": "2025-10-17T03:21:14.135344Z",
     "start_time": "2025-10-17T03:21:14.132157Z"
    }
   },
   "cell_type": "code",
   "source": [
    "target = \"duration\"\n",
    "y_test = df[target].values"
   ],
   "id": "279883f13ed8101f",
   "outputs": [],
   "execution_count": 52
  },
  {
   "metadata": {
    "ExecuteTime": {
     "end_time": "2025-10-17T03:21:21.827395Z",
     "start_time": "2025-10-17T03:21:21.422928Z"
    }
   },
   "cell_type": "code",
   "source": "%time test_model(name=\"nyc-taxi-model\", alias=\"champion\", X_test=X_test, y_test=y_test)",
   "id": "64106e7f91d9db71",
   "outputs": [
    {
     "name": "stdout",
     "output_type": "stream",
     "text": [
      "CPU times: user 335 ms, sys: 50.5 ms, total: 385 ms\n",
      "Wall time: 398 ms\n"
     ]
    },
    {
     "data": {
      "text/plain": [
       "{'rmse': 9.162768346025532}"
      ]
     },
     "execution_count": 53,
     "metadata": {},
     "output_type": "execute_result"
    }
   ],
   "execution_count": 53
  },
  {
   "metadata": {
    "ExecuteTime": {
     "end_time": "2025-10-17T03:21:29.611973Z",
     "start_time": "2025-10-17T03:21:28.846515Z"
    }
   },
   "cell_type": "code",
   "source": "%time test_model(name=model_name, alias=\"challenger\", X_test=X_test, y_test=y_test)",
   "id": "692846d21fc23e5",
   "outputs": [
    {
     "name": "stdout",
     "output_type": "stream",
     "text": [
      "CPU times: user 725 ms, sys: 20.4 ms, total: 745 ms\n",
      "Wall time: 761 ms\n"
     ]
    },
    {
     "data": {
      "text/plain": [
       "{'rmse': 6.01147524270201}"
      ]
     },
     "execution_count": 54,
     "metadata": {},
     "output_type": "execute_result"
    }
   ],
   "execution_count": 54
  },
  {
   "metadata": {
    "ExecuteTime": {
     "end_time": "2025-10-17T03:23:39.477481Z",
     "start_time": "2025-10-17T03:23:39.460133Z"
    }
   },
   "cell_type": "code",
   "source": [
    "client.set_registered_model_alias(\n",
    "    name=\"nyc-taxi-model\",\n",
    "    alias=\"champion\",\n",
    "    version=1\n",
    ")\n",
    "\n",
    "client.delete_registered_model_alias(\n",
    "    name=\"nyc-taxi-model\",\n",
    "    alias=\"challenger\"\n",
    ")"
   ],
   "id": "84a135e1e12d7c41",
   "outputs": [],
   "execution_count": 56
  }
 ],
 "metadata": {
  "kernelspec": {
   "display_name": "Python 3 (ipykernel)",
   "language": "python",
   "name": "python3"
  },
  "language_info": {
   "codemirror_mode": {
    "name": "ipython",
    "version": 3
   },
   "file_extension": ".py",
   "mimetype": "text/x-python",
   "name": "python",
   "nbconvert_exporter": "python",
   "pygments_lexer": "ipython3",
   "version": "3.13.0"
  }
 },
 "nbformat": 4,
 "nbformat_minor": 5
}
